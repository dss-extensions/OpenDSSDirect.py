{
 "cells": [
  {
   "cell_type": "markdown",
   "metadata": {},
   "source": [
    "# Multiple DSS engines and multithreading\n",
    "\n",
    "*Parallel OpenDSS/AltDSS engines in the same process*\n",
    "\n",
    "This is a slightly modified version, ported directly from DSS-Python. The `_run` function is what changes mostly, visit https://dss-extensions.org/DSS-Python/examples/Multithreading.html for a few more comments and a comparison with `multiprocessing` and notes on the internal parallel-machine implementation.\n",
    "\n",
    "This version uses only the 13Bus circuit, but can be easily extended.\n",
    "\n",
    "<!-- TODO: update link to the website when ready -->\n",
    "[General recommendations apply](https://github.com/dss-extensions/dss-extensions/blob/main/docs/multithreading.md), like using a good memory allocator on Linux."
   ]
  },
  {
   "cell_type": "code",
   "execution_count": 2,
   "metadata": {},
   "outputs": [],
   "source": [
    "import os\n",
    "import threading\n",
    "from time import perf_counter\n",
    "import numpy as np\n",
    "\n",
    "from opendssdirect.OpenDSSDirect import OpenDSSDirect # for type hints\n",
    "from opendssdirect import dss\n",
    "\n",
    "# Adjust this if required\n",
    "PATH_TO_DSS_SCRIPT = './../../tests/data/13Bus/IEEE13Nodeckt.dss'"
   ]
  },
  {
   "cell_type": "markdown",
   "metadata": {},
   "source": [
    "Remember that OpenDSS changes the working directory of the process? To use multiple instances, we need to disable that behavior. When disabled, the AltDSS engine will track the required paths without changing the working directory."
   ]
  },
  {
   "cell_type": "code",
   "execution_count": 3,
   "metadata": {},
   "outputs": [],
   "source": [
    "dss.Basic.AllowChangeDir(False)"
   ]
  },
  {
   "cell_type": "markdown",
   "metadata": {},
   "source": [
    "Now we need to create a list of cases to run. Let's try 100 samples of LoadMult between 0.9 and 1.1:"
   ]
  },
  {
   "cell_type": "code",
   "execution_count": 4,
   "metadata": {},
   "outputs": [],
   "source": [
    "fns = [PATH_TO_DSS_SCRIPT]\n",
    "\n",
    "cases = []\n",
    "for fn in fns:\n",
    "    for load_mult in np.linspace(0.9, 1.1, 100):\n",
    "        cases.append((fn, load_mult))\n",
    "\n",
    "cases_to_run_threads = list(cases)\n",
    "cases_to_run_seq = list(cases)"
   ]
  },
  {
   "cell_type": "markdown",
   "metadata": {},
   "source": [
    "Decide how many instances based on the number of cases and the CPU count. For processors with Hyper-threading, it might be best to run with the number of real cores. It all depends on the processor architecture, such as cache and memory bandwidth, and the characteristics of the DSS circuit being used. It is recommended to run a few tests to select the optional number of threads, especially for large scale circuits (IEEE13 is tiny)."
   ]
  },
  {
   "cell_type": "code",
   "execution_count": 5,
   "metadata": {},
   "outputs": [
    {
     "name": "stdout",
     "output_type": "stream",
     "text": [
      "Using 24 DSS contexts\n"
     ]
    }
   ],
   "source": [
    "# Use the number of threads as CPU count, number of cases\n",
    "num = min(len(cases), os.cpu_count())\n",
    "\n",
    "# Initialize a new context for each of the threads\n",
    "ctxs = [dss.NewContext() for n in range(num)]\n",
    "print(f\"Using {len(ctxs)} DSS contexts\")\n"
   ]
  },
  {
   "cell_type": "markdown",
   "metadata": {},
   "source": [
    "Some dicts to keep the results:"
   ]
  },
  {
   "cell_type": "code",
   "execution_count": 6,
   "metadata": {},
   "outputs": [],
   "source": [
    "tresults = {}\n",
    "tconverged = {}\n",
    "sresults = {}\n",
    "sconverged = {}"
   ]
  },
  {
   "cell_type": "markdown",
   "metadata": {},
   "source": [
    "This is the worker function that will run the workload, both in the threads and sequentially.\n",
    "\n",
    "Note that it references some structures shared as input to the function. Since there is a GIL, we don't need to use locks. You may need to adjust that for more general usage.\n",
    "\n",
    "Uncomment the `print` calls for some visual feedback while running."
   ]
  },
  {
   "cell_type": "code",
   "execution_count": 7,
   "metadata": {},
   "outputs": [],
   "source": [
    "def _run(ctx: OpenDSSDirect, case_list, converged, results):\n",
    "    tname = threading.current_thread().name\n",
    "    while case_list:\n",
    "        fn, load_mult = case_list.pop()\n",
    "        ctx.Text.Command('clear')\n",
    "        try:\n",
    "            ctx.Text.Command(f'redirect \"{fn}\"')\n",
    "            ctx.Solution.LoadMult(load_mult)\n",
    "            # print(f'{tname}: Running \"{fn}\", circuit \"{ctx.Circuit.Name()}\", mult={load_mult}')\n",
    "            ctx.Text.Command('Solve mode=daily number=5000')\n",
    "        except Exception as ex:\n",
    "            print('ERROR:', tname, (fn, load_mult))\n",
    "            print('      ', ex.args)\n",
    "\n",
    "        # print(f'{tname}: Done \"{fn}\" (LoadMult={load_mult}), circuit \"{ctx.Circuit.Name()}\"')\n",
    "        converged[(fn, load_mult)] = ctx.Solution.Converged()\n",
    "        results[(fn, load_mult)] = ctx.Circuit.AllBusVolts()\n"
   ]
  },
  {
   "cell_type": "markdown",
   "metadata": {},
   "source": [
    "With all in place, let's create and run the threads until completion.\n",
    "\n",
    "The threads will consume input scenarios from `cases_to_run_threads`, outputting to `tconverged` and `tresults`."
   ]
  },
  {
   "cell_type": "code",
   "execution_count": 8,
   "metadata": {},
   "outputs": [
    {
     "name": "stdout",
     "output_type": "stream",
     "text": [
      "Done in 0.488 s with 24 threads\n"
     ]
    }
   ],
   "source": [
    "t0 = perf_counter()\n",
    "threads = []\n",
    "for ctx in ctxs:\n",
    "    t = threading.Thread(target=_run, args=(ctx, cases_to_run_threads, tconverged, tresults))\n",
    "    threads.append(t)\n",
    "\n",
    "for t in threads:\n",
    "    t.start()\n",
    "\n",
    "for t in threads:\n",
    "    t.join()\n",
    "\n",
    "t1 = perf_counter()\n",
    "\n",
    "# Check if all solutions converged\n",
    "assert all(tconverged.values())\n",
    "\n",
    "dt_thread = (t1 - t0)\n",
    "print(f'Done in {dt_thread:.3f} s with {num} threads')"
   ]
  },
  {
   "cell_type": "markdown",
   "metadata": {},
   "source": [
    "For a comparison, let's also run the same cases sequentially in a simple thread."
   ]
  },
  {
   "cell_type": "code",
   "execution_count": 9,
   "metadata": {},
   "outputs": [
    {
     "name": "stdout",
     "output_type": "stream",
     "text": [
      "Done in 5.615 s sequentially\n"
     ]
    }
   ],
   "source": [
    "t0 = perf_counter()\n",
    "\n",
    "_run(dss, cases_to_run_seq, sconverged, sresults)\n",
    "\n",
    "t1 = perf_counter()\n",
    "dt_seq = (t1 - t0)\n",
    "print(f'Done in {dt_seq:.3f} s sequentially')"
   ]
  },
  {
   "cell_type": "markdown",
   "metadata": {},
   "source": [
    "Check if each scenario has the same results whether it ran in multiple threads or a single thread"
   ]
  },
  {
   "cell_type": "code",
   "execution_count": 10,
   "metadata": {},
   "outputs": [],
   "source": [
    "for case in cases:\n",
    "    np.testing.assert_equal(sresults[case], tresults[case])\n"
   ]
  },
  {
   "cell_type": "markdown",
   "metadata": {},
   "source": [
    "That's it! For modern processors, the difference of running in a single thread vs. multiple can be significant. \n",
    "\n",
    "Traditionally, a lot of OpenDSS users ran tasks in parallel with the `multiprocessing` module or other tools like Dask.Distributed, but depending on the use-case, multithreading can present interesting advantages, such as easier use of shared resources.\n",
    "\n",
    "For an approach compatible with the current official OpenDSS versions, using either `multiprocessing` or the `dss.Parallel` functions would be required."
   ]
  }
 ],
 "metadata": {
  "kernelspec": {
   "display_name": "base",
   "language": "python",
   "name": "python3"
  },
  "language_info": {
   "codemirror_mode": {
    "name": "ipython",
    "version": 3
   },
   "file_extension": ".py",
   "mimetype": "text/x-python",
   "name": "python",
   "nbconvert_exporter": "python",
   "pygments_lexer": "ipython3",
   "version": "3.11.4"
  }
 },
 "nbformat": 4,
 "nbformat_minor": 2
}
