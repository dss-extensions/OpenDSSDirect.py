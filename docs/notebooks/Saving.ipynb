{
 "cells": [
  {
   "cell_type": "markdown",
   "id": "e479bff8-9714-4c59-a730-a68bb3a6717e",
   "metadata": {},
   "source": [
    "# Saving and exporting circuits\n",
    "\n",
    "OpenDSS has a command to save the current circuit, e.g. `save circuit dir=some/path/`. \n",
    "\n",
    "During the development of the JSON functions for whole circuits (`Circuit.ToJSON()` and `Circuit.FromJSON()`) on DSS-Extensions, we took the oportunity to add some options to the save command, exposing it as a new function in API. This is thus avaiable in most projects under DSS-Extensions. Since many third-party software use OpenDSSDirect.py to inspect and export data, this is being added to the ODD.py documentation, but most of the information here applies to other Python packages and other projects in general on DSS-Extensions.\n",
    "\n",
    "The options are controlled through a bitmask integer, with the options from [DSSSaveFlags](https://dss-extensions.org/OpenDSSDirect.py/enumerations.html#dss_python_backend.enums.DSSSaveFlags), as [documented in the API reference for `Circuit.Save()`](https://dss-extensions.org/OpenDSSDirect.py/opendssdirect.html#opendssdirect.Circuit.ICircuit.Save).\n",
    "\n",
    "This notebook shows some examples of the options. \n",
    "\n",
    "If you have a suggestion for new flags, please feel free to suggest on GitHub, either through the [ODD.py issues](https://github.com/dss-extensions/OpenDSSDirect.py/issues), or general issues/discussions on  https://github.com/dss-extensions/dss-extensions\n",
    "\n",
    "Remember that both the `save circuit` command and the function used here export snapshots of the circuit. If the original .DSS script is a complete simulation, if won't be tracked, currently.\n",
    "\n",
    "Another limitation is that some file references are kept as-is. This is not typically an issue since most fields are read into numeric fields, which are exported OK.\n",
    "\n",
    "**Notebook requirements**"
   ]
  },
  {
   "cell_type": "code",
   "execution_count": null,
   "id": "d1e5695e-86e9-4db8-af7f-f8a81392e642",
   "metadata": {},
   "outputs": [],
   "source": [
    "# When running via Colab, install the package first\n",
    "import os, subprocess\n",
    "if os.getenv(\"COLAB_RELEASE_TAG\"):\n",
    "    print(subprocess.check_output('pip install opendssdirect.py[extras]', shell=True).decode())\n",
    "\n",
    "# Download the sample circuits and test cases if they do not exist already\n",
    "from dss.examples import download_repo_snapshot\n",
    "REPO_PATH = download_repo_snapshot('.', repo_name='electricdss-tst', use_version=False)\n",
    "IEEE13_PATH = REPO_PATH / 'Version8/Distrib/IEEETestCases/13Bus/IEEE13Nodeckt.dss'\n",
    "assert IEEE13_PATH.exists()"
   ]
  },
  {
   "cell_type": "markdown",
   "id": "a588fd54-cf2f-4558-a467-96b3af6b141a",
   "metadata": {},
   "source": [
    "## The `Circuit.Save` function\n",
    "\n",
    "It takes two arguments, a path for the file or directory to be used (if not saving to a string), and the options. It returns the DSS script as a string if `SingleFile|ToString` is used."
   ]
  },
  {
   "cell_type": "code",
   "execution_count": null,
   "id": "c11d1b38-8115-479c-a5e1-747ec5a5bf83",
   "metadata": {},
   "outputs": [],
   "source": [
    "from dss import DSSSaveFlags\n",
    "from opendssdirect import dss as odd\n",
    "from IPython.display import display, Markdown\n",
    "from textwrap import dedent"
   ]
  },
  {
   "cell_type": "code",
   "execution_count": null,
   "id": "4f1ca01f-9819-4c06-9837-aa0bafabe2ec",
   "metadata": {},
   "outputs": [],
   "source": [
    "? odd.Circuit.Save"
   ]
  },
  {
   "cell_type": "code",
   "execution_count": null,
   "id": "4bdea746-ff14-4520-b50e-7ed7ea117a69",
   "metadata": {},
   "outputs": [],
   "source": [
    "display(Markdown(dedent(odd.Circuit.Save.__doc__)))"
   ]
  },
  {
   "cell_type": "markdown",
   "id": "cab59c57-06f4-4e8e-951e-2a98a503b56d",
   "metadata": {},
   "source": [
    "## Saving to a folder\n",
    "\n",
    "This is equivalent to the `save circuit dir=save_dir`. Inspect the `save_dir` folder after running it."
   ]
  },
  {
   "cell_type": "code",
   "execution_count": null,
   "id": "363d4185-8d68-42c4-8350-60a13549a4f6",
   "metadata": {},
   "outputs": [],
   "source": [
    "# Don't forget to load a circuit first:\n",
    "odd(f'redirect \"{IEEE13_PATH}\"')"
   ]
  },
  {
   "cell_type": "code",
   "execution_count": null,
   "id": "f69f306e-ca6f-405d-9a3f-d6c91939ad4f",
   "metadata": {},
   "outputs": [],
   "source": [
    "print('Saving to', str(REPO_PATH / 'save_dir'))"
   ]
  },
  {
   "cell_type": "code",
   "execution_count": null,
   "id": "d2957a4d-99be-4059-98ec-28ece5d931ce",
   "metadata": {},
   "outputs": [],
   "source": [
    "odd.Circuit.Save(str(REPO_PATH / 'save_dir'), 0)"
   ]
  },
  {
   "cell_type": "markdown",
   "id": "c8b0ea00-957e-4688-8fd6-b3bc23db2882",
   "metadata": {},
   "source": [
    "## Saving to a single file\n",
    "\n",
    "Saving to a single file can be useful to simplify copying the circuit. Sometimes the circuit is small enough that it can useful to keep everything in the same file.\n",
    "\n",
    "Note that DSS-Extensions introduced a few lines always exported by default, since they are common sources of issues:\n",
    "\n",
    "- A comment with the version of the engine, making it clear what was used and/or what is the target of the script. Although OpenDSS doesn't change frequently, it can break compatibility from time to time, and AltDSS/DSS C-API follows most of this kind of decision from the official OpenDSS (for compatibility and so on).\n",
    "- It always sets the `DefaultBaseFreq`. New users frequently stumble on issues like loading a 50 Hz circuit on OpenDSS, followed by a 60 Hz circuit (which doesn't explicitly set this).\n",
    "- Similarly, it always sets the `EarthModel`.\n",
    "\n",
    "As suggested in the options, `CalcVoltageBases` is not included by default since many system require more careful handling of the base voltages than what `CalcVoltageBases` provides. If the user is sure that the circuit is fine with `CalcVoltageBases`, the option can be used or [the general compatibility flag](https://dss-extensions.org/OpenDSSDirect.py/enumerations.html#dss_python_backend.enums.DSSCompatFlags.SaveCalcVoltageBases) can be configured in [`Basic.CompatFlags()` function](https://dss-extensions.org/OpenDSSDirect.py/opendssdirect.html#opendssdirect.Basic.IBasic.CompatFlags)."
   ]
  },
  {
   "cell_type": "code",
   "execution_count": null,
   "id": "6964ad4a-0c5f-4e8e-8fad-843e7c3051d3",
   "metadata": {},
   "outputs": [],
   "source": [
    "odd.Circuit.Save('saved_circuit.dss', DSSSaveFlags.SingleFile)\n",
    "with open('saved_circuit.dss', 'r') as f:\n",
    "    saved_data = f.read()\n",
    "\n",
    "print(saved_data)"
   ]
  },
  {
   "cell_type": "markdown",
   "id": "f0543e7d-4613-4c36-8cde-a54f827ce1e0",
   "metadata": {},
   "source": [
    "## Exporting directly to a string\n",
    "\n",
    "One basic feature is to save circuits directly to a string, which is returned by the function. This is very useful for both inspecting and copying the data to another process.\n",
    "\n",
    "Let's use the IEEE13 circuit since it's not too large. Even for this circuit, we can notice that a lot of the text is not user-provided data, but the default OpenDSS items (the basic items created automatically for every circuit)."
   ]
  },
  {
   "cell_type": "code",
   "execution_count": null,
   "id": "661b076e-51f8-4fee-b1c4-552b623ddcd8",
   "metadata": {},
   "outputs": [],
   "source": [
    "odd(f'redirect \"{IEEE13_PATH}\"')"
   ]
  },
  {
   "cell_type": "code",
   "execution_count": null,
   "id": "81ec67f2-0e32-44ba-b23c-cb50bf2f42c3",
   "metadata": {},
   "outputs": [],
   "source": [
    "saved_data_from_str = odd.Circuit.Save('', DSSSaveFlags.SingleFile|DSSSaveFlags.ToString)"
   ]
  },
  {
   "cell_type": "markdown",
   "id": "257cf958-4639-4124-a679-fc2c16ec5ec9",
   "metadata": {},
   "source": [
    "Besides the timestamp from the comment, the data is the save as when saved to the file:"
   ]
  },
  {
   "cell_type": "code",
   "execution_count": null,
   "id": "1f2a82bb-957d-44c7-a06c-4bdf79a3dfcf",
   "metadata": {},
   "outputs": [],
   "source": [
    "print(saved_data_from_str)"
   ]
  },
  {
   "cell_type": "markdown",
   "id": "92882a89-f0aa-401d-a338-c15ff5da61a3",
   "metadata": {},
   "source": [
    "## Supressing defaults\n",
    "\n",
    "Since most circuits do not actually use most of the default items, suppressing them can remove some noise from the output.\n",
    "\n",
    "Note that if a default object is edited, they will be "
   ]
  },
  {
   "cell_type": "code",
   "execution_count": null,
   "id": "74b7f94a-024c-4516-9978-bce455132cce",
   "metadata": {},
   "outputs": [],
   "source": [
    "print(odd.Circuit.Save('', DSSSaveFlags.SingleFile|DSSSaveFlags.ToString|DSSSaveFlags.ExcludeDefault))"
   ]
  },
  {
   "cell_type": "markdown",
   "id": "a3a75449-15a5-4756-a973-907570bfc53a",
   "metadata": {},
   "source": [
    "## Keeping the order of elements\n",
    "\n",
    "Some circuits, probably somewhat ill-conditioned, are very sensible to the order of elements. This means that saving the circuit and reloading it can give slightly different results. This is expected, given how the numerical methods used in the engine work, but it is understandable it the user needs to keep the save results. This is used, for example, to test some of the DSS-Extensions functions related to JSON imports/exports."
   ]
  },
  {
   "cell_type": "code",
   "execution_count": null,
   "id": "68fbb7c0-11e1-48a7-8872-611422347538",
   "metadata": {},
   "outputs": [],
   "source": [
    "print(odd.Circuit.Save('', DSSSaveFlags.SingleFile|DSSSaveFlags.ToString|DSSSaveFlags.ExcludeDefault|DSSSaveFlags.KeepOrder))"
   ]
  },
  {
   "cell_type": "markdown",
   "id": "4f7b13d5-7fc5-47ec-b480-dabcd5c46d04",
   "metadata": {},
   "source": [
    "## Open elements\n",
    "\n",
    "Keeping the order is generally enough to reproduce the save `SystemY` matrix, but there are also situations that some elements are normal-open."
   ]
  },
  {
   "cell_type": "code",
   "execution_count": null,
   "id": "e10e0d58-b01c-4066-92df-bfa4708186db",
   "metadata": {},
   "outputs": [],
   "source": [
    "odd(f'''\n",
    "    redirect \"{IEEE13_PATH}\"\n",
    "    open Line.671692 terminal=1\n",
    "''')"
   ]
  },
  {
   "cell_type": "code",
   "execution_count": null,
   "id": "85ceafd1-7fcf-4171-a971-11c6fef061ac",
   "metadata": {},
   "outputs": [],
   "source": [
    "print(odd.Circuit.Save('', DSSSaveFlags.SingleFile|DSSSaveFlags.ToString|DSSSaveFlags.ExcludeDefault|DSSSaveFlags.KeepOrder|DSSSaveFlags.IsOpen))"
   ]
  },
  {
   "cell_type": "markdown",
   "id": "c77c04f4-d672-425a-a3dd-bc55b04688eb",
   "metadata": {},
   "source": [
    "## Including the options\n",
    "\n",
    "Finally, including the circuit options might be important to reproduce it:"
   ]
  },
  {
   "cell_type": "code",
   "execution_count": null,
   "id": "315c4fd5-ad27-4f7e-a1b7-512e2b160e0a",
   "metadata": {},
   "outputs": [],
   "source": [
    "print(odd.Circuit.Save('', DSSSaveFlags.SingleFile|DSSSaveFlags.ToString|DSSSaveFlags.ExcludeDefault|DSSSaveFlags.KeepOrder|DSSSaveFlags.IsOpen|DSSSaveFlags.IncludeOptions))"
   ]
  },
  {
   "cell_type": "markdown",
   "id": "4a19357a-1ec4-4f68-8763-c3a627328d8b",
   "metadata": {},
   "source": [
    "## Interaction with `CompatFlags()`\n",
    "\n",
    "Besides the `CalcVoltageBases` mentioned before, the `PropertyTracking` flag also affects some output. Property tracking was introduced as an attempt to make the saved data (both DSS scripts and JSON) less ambiguous."
   ]
  },
  {
   "cell_type": "code",
   "execution_count": null,
   "id": "6a71bcaf-b8d2-4357-8c63-8144dce33538",
   "metadata": {},
   "outputs": [],
   "source": [
    "IEEE4_DSS = '''\n",
    "clear\n",
    "Set DefaultBaseFrequency=60\n",
    "new circuit.4busDYBal   basekV=12.47 phases=3 mvasc3=200000 200000\n",
    "set earthmodel=carson\n",
    "new wiredata.conductor Runits=mi Rac=0.306 GMRunits=ft GMRac=0.0244  Radunits=in Diam=0.721 normamps=530\n",
    "new wiredata.neutral   Runits=mi Rac=0.592 GMRunits=ft GMRac=0.00814 Radunits=in Diam=0.563 normamps=340\n",
    "new linegeometry.4wire nconds=4 nphases=3 reduce=yes \n",
    "~ cond=1 wire=conductor units=ft x=-4   h=28 \n",
    "~ cond=2 wire=conductor units=ft x=-1.5 h=28 \n",
    "~ cond=3 wire=conductor units=ft x=3    h=28 \n",
    "~ cond=4 wire=neutral   units=ft x=0    h=24 \n",
    "new line.line1 geometry=4wire length=2000 units=ft bus1=sourcebus bus2=n2\n",
    "new transformer.t1 xhl=6\n",
    "~ wdg=1 bus=n2 conn=delta kV=12.47 kVA=6000 %r=0.5 \n",
    "~ wdg=2 bus=n3 conn=wye   kV=4.16  kVA=6000 %r=0.5 \n",
    "new line.line2 bus1=n3 bus2=n4 geometry=4wire length=2500 units=ft  \n",
    "new load.load1 phases=3 bus1=n4 conn=wye kV=4.16 kW=5400 pf=0.9  model=1 vminpu=0.75\n",
    "set voltagebases=[12.47, 4.16] \n",
    "'''"
   ]
  },
  {
   "cell_type": "markdown",
   "id": "f4465e80-cb4b-4958-8618-07a11b6f5b8a",
   "metadata": {},
   "source": [
    "### Without property tracking\n",
    "\n",
    "Note here that when the load is edited, it still outputs `kW`, `PF` and `kvar`, which can be misleading and could confuse third-party parsers that don't fully implement the OpenDSS parser:"
   ]
  },
  {
   "cell_type": "code",
   "execution_count": null,
   "id": "51476543-ae60-4f45-9847-300646fc9f03",
   "metadata": {},
   "outputs": [],
   "source": [
    "from dss import DSSCompatFlags\n",
    "odd.Basic.CompatFlags(DSSCompatFlags.NoPropertyTracking)\n",
    "odd(IEEE4_DSS)\n",
    "odd('load.load1.kvar=1000')\n",
    "print(odd.Circuit.Save('', DSSSaveFlags.SingleFile|DSSSaveFlags.ToString|DSSSaveFlags.ExcludeDefault|DSSSaveFlags.KeepOrder))"
   ]
  },
  {
   "cell_type": "markdown",
   "id": "7c9c0104-dab0-424a-92bb-57c2f6dfd688",
   "metadata": {},
   "source": [
    "### With property tracking (default)\n",
    "\n",
    "With property tracking, `PF` is supressed from the load, since the load definition switches from (`kW`, `PF`) to (`kW`, `kvar`).\n",
    "\n",
    "Property tracking is an added functionaly on DSS-Extensions, the default OpenDSS does not implement this."
   ]
  },
  {
   "cell_type": "code",
   "execution_count": null,
   "id": "d5be2e31-7f93-45ef-b0bb-46495d3a26a6",
   "metadata": {},
   "outputs": [],
   "source": [
    "odd.Basic.CompatFlags(0)\n",
    "odd(IEEE4_DSS)\n",
    "odd('load.load1.kvar=1000')\n",
    "print(odd.Circuit.Save('', DSSSaveFlags.SingleFile|DSSSaveFlags.ToString|DSSSaveFlags.ExcludeDefault|DSSSaveFlags.KeepOrder))"
   ]
  },
  {
   "cell_type": "markdown",
   "id": "1725c900-a824-4fb9-b36f-ab39ad1cde25",
   "metadata": {},
   "source": [
    "## Is JSON a better alternative?\n",
    "\n",
    "If the exported circuit will be used for other software, the engine in DSS-Extensions include work-in-progress implementation of JSON export and import functions. The repository for general discussions on this is at https://github.com/dss-extensions/AltDSS-Schema and the docs are also being updated.\n",
    "\n",
    "For short, there are some small changes to match JSON expectations (this is encoded in the JSON Schema), some DSS properties (like winding and conductor iterators) are suppressed, etc.\n",
    "\n",
    "Currently, some options and commands are included in the `PreCommands` and `PostCommands` lists. They will be formalized as JSON objects later."
   ]
  },
  {
   "cell_type": "code",
   "execution_count": null,
   "id": "2d9850ec-8770-45cf-af88-8b74175e47ac",
   "metadata": {},
   "outputs": [],
   "source": [
    "import json\n",
    "json_data = json.loads(odd.Circuit.ToJSON())\n",
    "json_data"
   ]
  },
  {
   "cell_type": "code",
   "execution_count": null,
   "id": "511f6314-a39c-4c5b-94fa-742364b467f9",
   "metadata": {},
   "outputs": [],
   "source": [
    "# If you are running on Jupyter, better display\n",
    "from IPython.display import JSON\n",
    "display(JSON(json_data))"
   ]
  }
 ],
 "metadata": {
  "kernelspec": {
   "display_name": "Python 3 (ipykernel)",
   "language": "python",
   "name": "python3"
  },
  "language_info": {
   "codemirror_mode": {
    "name": "ipython",
    "version": 3
   },
   "file_extension": ".py",
   "mimetype": "text/x-python",
   "name": "python",
   "nbconvert_exporter": "python",
   "pygments_lexer": "ipython3",
   "version": "3.12.2"
  },
  "mystnb": {
   "execution_allow_errors": false
  }
 },
 "nbformat": 4,
 "nbformat_minor": 5
}
