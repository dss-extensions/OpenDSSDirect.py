{
 "cells": [
  {
   "cell_type": "markdown",
   "metadata": {},
   "source": [
    "# Usage"
   ]
  },
  {
   "attachments": {},
   "cell_type": "markdown",
   "metadata": {},
   "source": [
    "OpenDSSDirect.py is a package in the [DSS-Extensions](https://dss-extensions.org/) project. As such, it doesn't require EPRI's OpenDSS to be installed. OpenDSSDirect.py provides it's own customized engine through [DSS-Python](https://dss-extensions.org/dss_python/), which in turn enables us to run the DSS engine on Windows, Linux and macOS (including newer Apple ARM processors).\n",
    "\n",
    "After the installation, you can just import the module and start using it without further steps:"
   ]
  },
  {
   "cell_type": "code",
   "execution_count": 2,
   "metadata": {
    "collapsed": true
   },
   "outputs": [],
   "source": [
    "from opendssdirect import dss"
   ]
  },
  {
   "cell_type": "code",
   "execution_count": 3,
   "metadata": {},
   "outputs": [
    {
     "name": "stdout",
     "output_type": "stream",
     "text": [
      "OpenDSSDirect.py and engine versions: DSS C-API Library version DEV revision UNKNOWN based on OpenDSS SVN UNKNOWN [FPC 3.2.2] (64-bit build) MVMULT INCREMENTAL_Y CONTEXT_API PM 20240206090705; License Status: Open \n",
      "DSS-Python version: 0.0dev\n",
      "OpenDSSDirect.py version: 0.0dev\n"
     ]
    }
   ],
   "source": [
    "print('OpenDSSDirect.py and engine versions:', dss.Version())"
   ]
  },
  {
   "cell_type": "markdown",
   "metadata": {},
   "source": [
    "## Import a file"
   ]
  },
  {
   "attachments": {},
   "cell_type": "markdown",
   "metadata": {},
   "source": [
    "Use the high level interface for automatic error handling, mapping errors to Python exceptions.\n",
    "\n",
    "This first example should give an error:"
   ]
  },
  {
   "cell_type": "code",
   "execution_count": 4,
   "metadata": {},
   "outputs": [
    {
     "ename": "DSSException",
     "evalue": "(#243) Redirect file not found: \"this_file_does_not_exist.dss\"",
     "output_type": "error",
     "traceback": [
      "\u001b[0;31m---------------------------------------------------------------------------\u001b[0m",
      "\u001b[0;31mDSSException\u001b[0m                              Traceback (most recent call last)",
      "Cell \u001b[0;32mIn[4], line 1\u001b[0m\n\u001b[0;32m----> 1\u001b[0m \u001b[43mdss\u001b[49m\u001b[38;5;241;43m.\u001b[39;49m\u001b[43mCommand\u001b[49m\u001b[43m(\u001b[49m\u001b[38;5;124;43m'\u001b[39;49m\u001b[38;5;124;43mRedirect this_file_does_not_exist.dss\u001b[39;49m\u001b[38;5;124;43m'\u001b[39;49m\u001b[43m)\u001b[49m\n",
      "File \u001b[0;32m~/projects/dss/oddpy/opendssdirect/Text.py:26\u001b[0m, in \u001b[0;36mIText.Command\u001b[0;34m(self, *args)\u001b[0m\n\u001b[1;32m     24\u001b[0m \u001b[38;5;28;01mif\u001b[39;00m \u001b[38;5;129;01mnot\u001b[39;00m \u001b[38;5;28misinstance\u001b[39m(Value, \u001b[38;5;28mbytes\u001b[39m):\n\u001b[1;32m     25\u001b[0m     Value \u001b[38;5;241m=\u001b[39m Value\u001b[38;5;241m.\u001b[39mencode(\u001b[38;5;28mself\u001b[39m\u001b[38;5;241m.\u001b[39m_api_util\u001b[38;5;241m.\u001b[39mcodec)\n\u001b[0;32m---> 26\u001b[0m \u001b[38;5;28;43mself\u001b[39;49m\u001b[38;5;241;43m.\u001b[39;49m\u001b[43m_check_for_error\u001b[49m\u001b[43m(\u001b[49m\u001b[38;5;28;43mself\u001b[39;49m\u001b[38;5;241;43m.\u001b[39;49m\u001b[43m_lib\u001b[49m\u001b[38;5;241;43m.\u001b[39;49m\u001b[43mText_Set_Command\u001b[49m\u001b[43m(\u001b[49m\u001b[43mValue\u001b[49m\u001b[43m)\u001b[49m\u001b[43m)\u001b[49m\n",
      "File \u001b[0;32m~/projects/dss/dss_python/dss/_cffi_api_util.py:260\u001b[0m, in \u001b[0;36mBase._check_for_error\u001b[0;34m(self, result)\u001b[0m\n\u001b[1;32m    258\u001b[0m     error_num \u001b[38;5;241m=\u001b[39m \u001b[38;5;28mself\u001b[39m\u001b[38;5;241m.\u001b[39m_errorPtr[\u001b[38;5;241m0\u001b[39m]\n\u001b[1;32m    259\u001b[0m     \u001b[38;5;28mself\u001b[39m\u001b[38;5;241m.\u001b[39m_errorPtr[\u001b[38;5;241m0\u001b[39m] \u001b[38;5;241m=\u001b[39m \u001b[38;5;241m0\u001b[39m\n\u001b[0;32m--> 260\u001b[0m     \u001b[38;5;28;01mraise\u001b[39;00m DSSException(error_num, \u001b[38;5;28mself\u001b[39m\u001b[38;5;241m.\u001b[39m_get_string(\u001b[38;5;28mself\u001b[39m\u001b[38;5;241m.\u001b[39m_lib\u001b[38;5;241m.\u001b[39mError_Get_Description()))\n\u001b[1;32m    262\u001b[0m \u001b[38;5;28;01mreturn\u001b[39;00m result\n",
      "\u001b[0;31mDSSException\u001b[0m: (#243) Redirect file not found: \"this_file_does_not_exist.dss\""
     ]
    }
   ],
   "source": [
    "dss.Command('Redirect this_file_does_not_exist.dss')"
   ]
  },
  {
   "cell_type": "markdown",
   "metadata": {},
   "source": [
    "This second example uses a correct file path:"
   ]
  },
  {
   "cell_type": "code",
   "execution_count": 5,
   "metadata": {},
   "outputs": [],
   "source": [
    "dss.Command('Redirect \"../../tests/data/13Bus/IEEE13Nodeckt.dss\"')"
   ]
  },
  {
   "attachments": {},
   "cell_type": "markdown",
   "metadata": {},
   "source": [
    "👉 **In previous versions of this document, we used to recommend `dss.run_command()`. Unfortunately the error-checking from `run_command` can be confusing and we cannot change it, for historical and backwards-compatibility reasons.**\n",
    "\n",
    "`dss.Command` itself is a shortcut to `dss.Text.Command`, the interface function for dispatching single DSS commands. Since v0.9, when importing the `dss` instance (`from opendssdirect import dss`), one can also use just `dss('Redirect \"../../tests/data/13Bus/IEEE13Nodeckt.dss\"')` instead of `dss.Command('Redirect \"../../tests/data/13Bus/IEEE13Nodeckt.dss\"')` for an even shorter version. As an added feature, calling `dss(script_string)` also allows passing multiple commands through multi-line strings."
   ]
  },
  {
   "attachments": {},
   "cell_type": "markdown",
   "metadata": {},
   "source": [
    "If you need text output from the Text interface, you can use `dss.Text.Result()`. In general, if there is a dedicated API for a certain class of component, prefere to use that for performance and safety reasons. Otherwise, for example, you can query the DSS engine:"
   ]
  },
  {
   "cell_type": "code",
   "execution_count": 6,
   "metadata": {},
   "outputs": [
    {
     "data": {
      "text/plain": [
       "'160'"
      ]
     },
     "execution_count": 6,
     "metadata": {},
     "output_type": "execute_result"
    }
   ],
   "source": [
    "dss('? Load.634a.kW')\n",
    "dss.Text.Result()"
   ]
  },
  {
   "cell_type": "markdown",
   "metadata": {},
   "source": [
    "## Module `Loads`"
   ]
  },
  {
   "cell_type": "markdown",
   "metadata": {},
   "source": [
    "The `dss` object has many attributes, many of them representing specific DSS interfaces. Check the the API reference for details."
   ]
  },
  {
   "cell_type": "code",
   "execution_count": 13,
   "metadata": {},
   "outputs": [
    {
     "name": "stdout",
     "output_type": "stream",
     "text": [
      "dss.ActiveClass\n",
      "dss.Basic\n",
      "dss.Bus\n",
      "dss.CNData\n",
      "dss.CapControls\n",
      "dss.Capacitors\n",
      "dss.Circuit\n",
      "dss.CktElement\n",
      "dss.CtrlQueue\n",
      "dss.DSSCore\n",
      "dss.DSSException\n",
      "dss.Element\n",
      "dss.Error\n",
      "dss.Executive\n",
      "dss.Fuses\n",
      "dss.GICSources\n",
      "dss.Generators\n",
      "dss.Isource\n",
      "dss.LineCodes\n",
      "dss.LineGeometries\n",
      "dss.LineSpacings\n",
      "dss.Lines\n",
      "dss.LoadShape\n",
      "dss.Loads\n",
      "dss.Meters\n",
      "dss.Monitors\n",
      "dss.PDElements\n",
      "dss.PVsystems\n",
      "dss.Parallel\n",
      "dss.Parser\n",
      "dss.Progress\n",
      "dss.Properties\n",
      "dss.Reactors\n",
      "dss.Reclosers\n",
      "dss.ReduceCkt\n",
      "dss.RegControls\n",
      "dss.Relays\n",
      "dss.Sensors\n",
      "dss.Settings\n",
      "dss.Solution\n",
      "dss.Storages\n",
      "dss.SwtControls\n",
      "dss.TSData\n",
      "dss.Text\n",
      "dss.Topology\n",
      "dss.Transformers\n",
      "dss.Vsources\n",
      "dss.WireData\n",
      "dss.XYCurves\n",
      "dss.YMatrix\n",
      "dss.ZIP\n",
      "dss.dss\n",
      "dss.dss_ffi\n",
      "dss.dss_lib\n",
      "dss.utils\n"
     ]
    }
   ],
   "source": [
    "import types\n",
    "\n",
    "import inspect\n",
    "\n",
    "for name, obj in inspect.getmembers(dss):\n",
    "    if not isinstance(obj, (types.MethodType, types.FunctionType)) and not name.startswith('_'):\n",
    "        print(f'dss.{name}')"
   ]
  },
  {
   "cell_type": "markdown",
   "metadata": {},
   "source": [
    "Each class or submodule has functions that can be called. Many of them mirror the properties exposed in the official COM interface. For those, the documentation tries to provide links to the official OpenDSS site. Many other functions are exclusive to DSS-Extensions and are marked as \"API Extension\" in the docs."
   ]
  },
  {
   "cell_type": "code",
   "execution_count": null,
   "metadata": {},
   "outputs": [
    {
     "name": "stdout",
     "output_type": "stream",
     "text": [
      "dss.Loads.AllNames\n",
      "dss.Loads.AllocationFactor\n",
      "dss.Loads.CFactor\n",
      "dss.Loads.CVRCurve\n",
      "dss.Loads.CVRvars\n",
      "dss.Loads.CVRwatts\n",
      "dss.Loads.CheckForError\n",
      "dss.Loads.Class\n",
      "dss.Loads.Count\n",
      "dss.Loads.Daily\n",
      "dss.Loads.Duty\n",
      "dss.Loads.First\n",
      "dss.Loads.Growth\n",
      "dss.Loads.Idx\n",
      "dss.Loads.IsDelta\n",
      "dss.Loads.Model\n",
      "dss.Loads.Name\n",
      "dss.Loads.Next\n",
      "dss.Loads.NumCust\n",
      "dss.Loads.PF\n",
      "dss.Loads.PctMean\n",
      "dss.Loads.PctStdDev\n",
      "dss.Loads.Phases\n",
      "dss.Loads.RelWeighting\n",
      "dss.Loads.Rneut\n",
      "dss.Loads.Sensor\n",
      "dss.Loads.Spectrum\n",
      "dss.Loads.Status\n",
      "dss.Loads.Vmaxpu\n",
      "dss.Loads.VminEmerg\n",
      "dss.Loads.VminNorm\n",
      "dss.Loads.Vminpu\n",
      "dss.Loads.XfkVA\n",
      "dss.Loads.Xneut\n",
      "dss.Loads.Yearly\n",
      "dss.Loads.ZipV\n",
      "dss.Loads.kV\n",
      "dss.Loads.kVABase\n",
      "dss.Loads.kW\n",
      "dss.Loads.kWh\n",
      "dss.Loads.kWhDays\n",
      "dss.Loads.kvar\n",
      "dss.Loads.puSeriesRL\n"
     ]
    }
   ],
   "source": [
    "for name, function in inspect.getmembers(dss.Loads):\n",
    "    if callable(function) and not name.startswith('_'):\n",
    "        print(f'dss.Loads.{name}')"
   ]
  },
  {
   "cell_type": "markdown",
   "metadata": {},
   "source": [
    "For example, `Loads.kW` is available in the official OpenDSS COM API..."
   ]
  },
  {
   "cell_type": "code",
   "execution_count": 15,
   "metadata": {},
   "outputs": [
    {
     "name": "stdout",
     "output_type": "stream",
     "text": [
      "\u001b[0;31mSignature:\u001b[0m  \u001b[0mdss\u001b[0m\u001b[0;34m.\u001b[0m\u001b[0mLoads\u001b[0m\u001b[0;34m.\u001b[0m\u001b[0mkW\u001b[0m\u001b[0;34m(\u001b[0m\u001b[0;34m*\u001b[0m\u001b[0margs\u001b[0m\u001b[0;34m)\u001b[0m\u001b[0;34m\u001b[0m\u001b[0;34m\u001b[0m\u001b[0m\n",
      "\u001b[0;31mDocstring:\u001b[0m\n",
      "Set kW for active Load. Updates kvar based on present PF.\n",
      "\n",
      "Original COM help: https://opendss.epri.com/kW1.html\n",
      "\u001b[0;31mFile:\u001b[0m      ~/projects/dss/oddpy/opendssdirect/Loads.py\n",
      "\u001b[0;31mType:\u001b[0m      method"
     ]
    }
   ],
   "source": [
    "? dss.Loads.kW"
   ]
  },
  {
   "cell_type": "markdown",
   "metadata": {},
   "source": [
    "...but `Loads.Phases` is not:"
   ]
  },
  {
   "cell_type": "code",
   "execution_count": 16,
   "metadata": {},
   "outputs": [
    {
     "name": "stdout",
     "output_type": "stream",
     "text": [
      "\u001b[0;31mSignature:\u001b[0m  \u001b[0mdss\u001b[0m\u001b[0;34m.\u001b[0m\u001b[0mLoads\u001b[0m\u001b[0;34m.\u001b[0m\u001b[0mPhases\u001b[0m\u001b[0;34m(\u001b[0m\u001b[0;34m*\u001b[0m\u001b[0margs\u001b[0m\u001b[0;34m)\u001b[0m\u001b[0;34m\u001b[0m\u001b[0;34m\u001b[0m\u001b[0m\n",
      "\u001b[0;31mDocstring:\u001b[0m\n",
      "Number of phases\n",
      "\n",
      "**(API Extension)**\n",
      "\u001b[0;31mFile:\u001b[0m      ~/projects/dss/oddpy/opendssdirect/Loads.py\n",
      "\u001b[0;31mType:\u001b[0m      method"
     ]
    }
   ],
   "source": [
    "? dss.Loads.Phases"
   ]
  },
  {
   "cell_type": "markdown",
   "metadata": {},
   "source": [
    "It is important to understand that OpenDSSDirect.py uses function calls instead of Python properties to expose the API. So, to get the value of a property, just call the function without arguments:"
   ]
  },
  {
   "cell_type": "code",
   "execution_count": null,
   "metadata": {},
   "outputs": [
    {
     "data": {
      "text/plain": [
       "['671',\n",
       " '634a',\n",
       " '634b',\n",
       " '634c',\n",
       " '645',\n",
       " '646',\n",
       " '692',\n",
       " '675a',\n",
       " '675b',\n",
       " '675c',\n",
       " '611',\n",
       " '652',\n",
       " '670a',\n",
       " '670b',\n",
       " '670c']"
      ]
     },
     "execution_count": 13,
     "metadata": {},
     "output_type": "execute_result"
    }
   ],
   "source": [
    "dss.Loads.AllNames()"
   ]
  },
  {
   "cell_type": "code",
   "execution_count": null,
   "metadata": {},
   "outputs": [
    {
     "data": {
      "text/plain": [
       "'670c'"
      ]
     },
     "execution_count": 14,
     "metadata": {},
     "output_type": "execute_result"
    }
   ],
   "source": [
    "dss.Loads.Name()"
   ]
  },
  {
   "cell_type": "code",
   "execution_count": null,
   "metadata": {},
   "outputs": [
    {
     "data": {
      "text/plain": [
       "120.0"
      ]
     },
     "execution_count": 15,
     "metadata": {},
     "output_type": "execute_result"
    }
   ],
   "source": [
    "dss.Loads.kW()"
   ]
  },
  {
   "cell_type": "markdown",
   "metadata": {},
   "source": [
    "Now, if you want to set the value of a property, pass the value as argument:"
   ]
  },
  {
   "cell_type": "code",
   "execution_count": 17,
   "metadata": {},
   "outputs": [
    {
     "data": {
      "text/plain": [
       "125.0"
      ]
     },
     "execution_count": 17,
     "metadata": {},
     "output_type": "execute_result"
    }
   ],
   "source": [
    "dss.Loads.kW(125)\n",
    "dss.Loads.kW()"
   ]
  },
  {
   "cell_type": "markdown",
   "metadata": {},
   "source": [
    "To get all `kW`, one must iterate over all the loads. v0.9+ support Python iterators, so a simple `for` will do. Remember that OpenDSS API restrictions still apply -- a simple object of this type must be active. Check [AltDSS-Python](https://github.com/dss-extensions/AltDSS-Python) for an alternative.\n",
    "\n",
    "Iterators and a few other features are only available when using classes instead of submodules."
   ]
  },
  {
   "cell_type": "code",
   "execution_count": null,
   "metadata": {},
   "outputs": [
    {
     "name": "stdout",
     "output_type": "stream",
     "text": [
      "Name=671 \t kW=1155.0\n",
      "Name=634a \t kW=160.0\n",
      "Name=634b \t kW=120.0\n",
      "Name=634c \t kW=120.0\n",
      "Name=645 \t kW=170.0\n",
      "Name=646 \t kW=230.0\n",
      "Name=692 \t kW=170.0\n",
      "Name=675a \t kW=485.0\n",
      "Name=675b \t kW=68.0\n",
      "Name=675c \t kW=290.0\n",
      "Name=611 \t kW=170.0\n",
      "Name=652 \t kW=128.0\n",
      "Name=670a \t kW=17.0\n",
      "Name=670b \t kW=66.0\n",
      "Name=670c \t kW=120.0\n"
     ]
    }
   ],
   "source": [
    "for load in dss.Loads:\n",
    "    print(\n",
    "        'Name={name} \\t kW={kW}'.format(\n",
    "            name=load.Name(), \n",
    "            kW=load.kW()\n",
    "        )\n",
    "    )"
   ]
  },
  {
   "cell_type": "markdown",
   "metadata": {},
   "source": [
    "List comprehensions also work great:"
   ]
  },
  {
   "cell_type": "code",
   "execution_count": null,
   "metadata": {},
   "outputs": [
    {
     "data": {
      "text/plain": [
       "[1155.0,\n",
       " 160.0,\n",
       " 120.0,\n",
       " 120.0,\n",
       " 170.0,\n",
       " 230.0,\n",
       " 170.0,\n",
       " 485.0,\n",
       " 68.0,\n",
       " 290.0,\n",
       " 170.0,\n",
       " 128.0,\n",
       " 17.0,\n",
       " 66.0,\n",
       " 120.0]"
      ]
     },
     "execution_count": 23,
     "metadata": {},
     "output_type": "execute_result"
    }
   ],
   "source": [
    "[l.kW() for l in dss.Loads]"
   ]
  },
  {
   "cell_type": "markdown",
   "metadata": {},
   "source": [
    "The (now deprecated) `Iterator` class from the `utils` module provides a similar option in pre-v0.9 versions. As seen below, it has greater overhead, so prefer the usual Python iteration for new code."
   ]
  },
  {
   "cell_type": "code",
   "execution_count": null,
   "metadata": {
    "collapsed": true
   },
   "outputs": [],
   "source": [
    "from opendssdirect.utils import Iterator"
   ]
  },
  {
   "cell_type": "code",
   "execution_count": null,
   "metadata": {
    "collapsed": true
   },
   "outputs": [
    {
     "name": "stderr",
     "output_type": "stream",
     "text": [
      "<magic-timeit>:1: DeprecationWarning: OpenDSSDirect.py's Iterator is deprecated; you can use native Python iterators directly now.\n"
     ]
    },
    {
     "name": "stdout",
     "output_type": "stream",
     "text": [
      "5.59 µs ± 33.7 ns per loop (mean ± std. dev. of 7 runs, 100,000 loops each)\n"
     ]
    }
   ],
   "source": [
    "%timeit load_kW = [i() for i in Iterator(dss.Loads, 'kW')]\n"
   ]
  },
  {
   "cell_type": "code",
   "execution_count": null,
   "metadata": {},
   "outputs": [
    {
     "name": "stdout",
     "output_type": "stream",
     "text": [
      "3.81 µs ± 24.1 ns per loop (mean ± std. dev. of 7 runs, 100,000 loops each)\n"
     ]
    }
   ],
   "source": [
    "%timeit load_kW = [l.kW() for l in dss.Loads]"
   ]
  },
  {
   "cell_type": "markdown",
   "metadata": {},
   "source": [
    "## Low-level API (advanced topic)\n",
    "\n",
    "**If you are a new OpenDSS user, you are not expected to use the low-level interface, i.e. the `dss_lib` and `dss_ffi` objects are for advanced users only, and may change without warning.** \n",
    "\n",
    "The low-level interface exposes [DSS C-API](https://dss-extensions.org/dss_capi/dss__capi_8h.html) as wrapped in [DSS-Python](https://dss-extensions.org/dss_python/). It's useful to prototype low-level operations in Python before porting to C, which is not something most of the OpenDSS users will ever do.\n",
    "\n",
    "Still, in some rare occasions, it might be useful to use the low-level interface. Beware that error checking needs to done by the user in this case. \n",
    "The reference for the low-level API is the source code of the DSS engine itself and the C header, e.g. \n",
    "\n",
    "- https://github.com/dss-extensions/dss_capi/blob/master/include/dss_capi.h\n",
    "- https://dss-extensions.org/dss_capi/dss__capi_8h.html\n",
    "\n",
    "Advanced knowledge of DSS C-API, pointers, and the CFFI module are required."
   ]
  },
  {
   "cell_type": "code",
   "execution_count": null,
   "metadata": {},
   "outputs": [
    {
     "ename": "NameError",
     "evalue": "name 'dss' is not defined",
     "output_type": "error",
     "traceback": [
      "\u001b[0;31m---------------------------------------------------------------------------\u001b[0m\n",
      "\u001b[0;31mNameError\u001b[0m                                 Traceback (most recent call last)\n",
      "Cell \u001b[0;32mIn[1], line 1\u001b[0m\n",
      "\u001b[0;32m----> 1\u001b[0m \u001b[43mdss\u001b[49m\u001b[38;5;241m.\u001b[39mdss_lib\u001b[38;5;241m.\u001b[39mText_Set_Command(\u001b[38;5;124m'\u001b[39m\u001b[38;5;124mRedirect ./../../tests/data/13Bus/IEEE13Nodeckt.dss\u001b[39m\u001b[38;5;124m'\u001b[39m\u001b[38;5;241m.\u001b[39mencode())\n",
      "\n",
      "\u001b[0;31mNameError\u001b[0m: name 'dss' is not defined"
     ]
    }
   ],
   "source": [
    "dss.dss_lib.Text_Set_Command('Redirect ./../../tests/data/13Bus/IEEE13Nodeckt.dss'.encode())"
   ]
  },
  {
   "cell_type": "markdown",
   "metadata": {},
   "source": [
    "Each of the properties from the official COM implementation of OpenDSS is implemented as a pair of functions. While in OpenDSSDirect.py one can use, e.g., `dss.Loads.kW()` to read the active load element `kW` and `dss.Loads.kW(some_value)` to set the `kW` value, the low-level interface exposes `dss.dss_lib.Loads_Get_kW()` and `dss.dss_lib.Loads_Set_kW()`."
   ]
  },
  {
   "cell_type": "code",
   "execution_count": null,
   "metadata": {},
   "outputs": [
    {
     "data": {
      "text/plain": [
       "'670c'"
      ]
     },
     "metadata": {},
     "output_type": "display_data"
    }
   ],
   "source": [
    "dss.Loads.Name()"
   ]
  },
  {
   "cell_type": "code",
   "execution_count": null,
   "metadata": {},
   "outputs": [
    {
     "data": {
      "text/plain": [
       "117.0"
      ]
     },
     "metadata": {},
     "output_type": "display_data"
    }
   ],
   "source": [
    "dss.dss_lib.Loads_Get_kW()"
   ]
  },
  {
   "cell_type": "code",
   "execution_count": null,
   "metadata": {},
   "outputs": [],
   "source": [
    "dss.dss_lib.Loads_Set_kW(120)"
   ]
  },
  {
   "cell_type": "code",
   "execution_count": null,
   "metadata": {},
   "outputs": [
    {
     "data": {
      "text/plain": [
       "120.0"
      ]
     },
     "metadata": {},
     "output_type": "display_data"
    }
   ],
   "source": [
    "dss.Loads.kW()"
   ]
  }
 ],
 "metadata": {
  "kernelspec": {
   "display_name": "base",
   "language": "python",
   "name": "python3"
  },
  "language_info": {
   "codemirror_mode": {
    "name": "ipython",
    "version": 3
   },
   "file_extension": ".py",
   "mimetype": "text/x-python",
   "name": "python",
   "nbconvert_exporter": "python",
   "pygments_lexer": "ipython3",
   "version": "3.11.4"
  },
  "vscode": {
   "interpreter": {
    "hash": "baa8017c28995192956bc3ba1b5ff3daaf48c837d0d371b8fadc1e72c74d0599"
   }
  }
 },
 "nbformat": 4,
 "nbformat_minor": 2
}
