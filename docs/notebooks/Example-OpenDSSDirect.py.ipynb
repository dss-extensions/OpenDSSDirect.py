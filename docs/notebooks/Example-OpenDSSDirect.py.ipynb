{
 "cells": [
  {
   "cell_type": "markdown",
   "metadata": {},
   "source": [
    "# Usage"
   ]
  },
  {
   "attachments": {},
   "cell_type": "markdown",
   "metadata": {},
   "source": [
    "OpenDSSDirect.py is a package in the [DSS Extensions](https://dss-extensions.org/) project. As such, it doesn't require EPRI's OpenDSS to be installed. OpenDSSDirect.py provides it's own customized engine through [DSS-Python](https://dss-extensions.org/dss_python/), which in turn enables us to run the DSS engine on Windows, Linux and macOS (including newer Apple ARM processors).\n",
    "\n",
    "After the installation, you can just import the module and start using it without further steps:"
   ]
  },
  {
   "cell_type": "code",
   "execution_count": 1,
   "metadata": {
    "collapsed": true
   },
   "outputs": [],
   "source": [
    "import opendssdirect as dss"
   ]
  },
  {
   "cell_type": "code",
   "execution_count": 2,
   "metadata": {},
   "outputs": [
    {
     "name": "stdout",
     "output_type": "stream",
     "text": [
      "OpenDSSDirect.py version: 0.7.0\n",
      "Engine information: DSS C-API Library version 0.12.1 revision 7230c9ec1f69ee2f13ac11202ced49ab0b239ebb based on OpenDSS SVN 3460 [FPC 3.2.2] (64-bit build) MVMULT INCREMENTAL_Y CONTEXT_API PM 20220716135355; License Status: Open \n"
     ]
    }
   ],
   "source": [
    "print('OpenDSSDirect.py version:', dss.__version__)\n",
    "print('Engine information:', dss.Basic.Version())"
   ]
  },
  {
   "cell_type": "markdown",
   "metadata": {},
   "source": [
    "### Import a file"
   ]
  },
  {
   "attachments": {},
   "cell_type": "markdown",
   "metadata": {},
   "source": [
    "Use the high level interface for automatic error handling, mapping errors to Python exceptions.\n",
    "\n",
    "This first example should give an error:"
   ]
  },
  {
   "cell_type": "code",
   "execution_count": 3,
   "metadata": {},
   "outputs": [
    {
     "ename": "DSSException",
     "evalue": "(#243) Redirect file not found: \"this_file_does_not_exist.dss\"",
     "output_type": "error",
     "traceback": [
      "\u001b[0;31m---------------------------------------------------------------------------\u001b[0m",
      "\u001b[0;31mDSSException\u001b[0m                              Traceback (most recent call last)",
      "\u001b[1;32m/home/meira/Projects/dss/oddpy/docs/notebooks/Example-OpenDSSDirect.py.ipynb Cell 7\u001b[0m in \u001b[0;36m<cell line: 1>\u001b[0;34m()\u001b[0m\n\u001b[0;32m----> <a href='vscode-notebook-cell:/home/meira/Projects/dss/oddpy/docs/notebooks/Example-OpenDSSDirect.py.ipynb#X36sZmlsZQ%3D%3D?line=0'>1</a>\u001b[0m dss\u001b[39m.\u001b[39;49mText\u001b[39m.\u001b[39;49mCommand(\u001b[39m'\u001b[39;49m\u001b[39mRedirect this_file_does_not_exist.dss\u001b[39;49m\u001b[39m'\u001b[39;49m)\n",
      "File \u001b[0;32m~/bin/python/lib/python3.8/site-packages/opendssdirect/Text.py:17\u001b[0m, in \u001b[0;36mCommand\u001b[0;34m(*args)\u001b[0m\n\u001b[1;32m     14\u001b[0m     Value \u001b[39m=\u001b[39m Value\u001b[39m.\u001b[39mencode(codec)\n\u001b[1;32m     16\u001b[0m lib\u001b[39m.\u001b[39mText_Set_Command(Value)\n\u001b[0;32m---> 17\u001b[0m CheckForError()\n",
      "File \u001b[0;32m~/bin/python/lib/python3.8/site-packages/dss/_cffi_api_util.py:128\u001b[0m, in \u001b[0;36mBase._check_for_error\u001b[0;34m(self, result)\u001b[0m\n\u001b[1;32m    126\u001b[0m     error_num \u001b[39m=\u001b[39m \u001b[39mself\u001b[39m\u001b[39m.\u001b[39m_errorPtr[\u001b[39m0\u001b[39m]\n\u001b[1;32m    127\u001b[0m     \u001b[39mself\u001b[39m\u001b[39m.\u001b[39m_errorPtr[\u001b[39m0\u001b[39m] \u001b[39m=\u001b[39m \u001b[39m0\u001b[39m\n\u001b[0;32m--> 128\u001b[0m     \u001b[39mraise\u001b[39;00m DSSException(error_num, \u001b[39mself\u001b[39m\u001b[39m.\u001b[39m_get_string(\u001b[39mself\u001b[39m\u001b[39m.\u001b[39m_lib\u001b[39m.\u001b[39mError_Get_Description()))\n\u001b[1;32m    130\u001b[0m \u001b[39mreturn\u001b[39;00m result\n",
      "\u001b[0;31mDSSException\u001b[0m: (#243) Redirect file not found: \"this_file_does_not_exist.dss\""
     ]
    }
   ],
   "source": [
    "dss.Text.Command('Redirect this_file_does_not_exist.dss')"
   ]
  },
  {
   "cell_type": "markdown",
   "metadata": {},
   "source": [
    "This second example uses a correct file path:"
   ]
  },
  {
   "cell_type": "code",
   "execution_count": 4,
   "metadata": {},
   "outputs": [],
   "source": [
    "dss.Text.Command('Redirect ./../../tests/data/13Bus/IEEE13Nodeckt.dss')"
   ]
  },
  {
   "attachments": {},
   "cell_type": "markdown",
   "metadata": {},
   "source": [
    "👉 **In previous versions of this document, we used to recommend `dss.run_command()`. Unfortunately the error-checking from `run_command` can be confusing and we cannot change it, for historical and backwards-compatibility reasons.**"
   ]
  },
  {
   "attachments": {},
   "cell_type": "markdown",
   "metadata": {},
   "source": [
    "If you need text output from the Text interface, you can use `dss.Text.Result()`. In general, if there is a dedicated API for a certain class of component, prefere to use that for performance and safety reasons. Otherwise, for example, you can query the DSS engine:"
   ]
  },
  {
   "cell_type": "code",
   "execution_count": 5,
   "metadata": {},
   "outputs": [
    {
     "data": {
      "text/plain": [
       "'160'"
      ]
     },
     "execution_count": 5,
     "metadata": {},
     "output_type": "execute_result"
    }
   ],
   "source": [
    "dss.Text.Command('? Load.634a.kW')\n",
    "dss.Text.Result()"
   ]
  },
  {
   "attachments": {},
   "cell_type": "markdown",
   "metadata": {},
   "source": [
    "Sometimes it might be useful to use the low-level interface. Beware that error checking needs to done by the user in this case."
   ]
  },
  {
   "cell_type": "code",
   "execution_count": 6,
   "metadata": {},
   "outputs": [],
   "source": [
    "dss.dss_lib.Text_Set_Command('Redirect ./../../tests/data/13Bus/IEEE13Nodeckt.dss'.encode())"
   ]
  },
  {
   "attachments": {},
   "cell_type": "markdown",
   "metadata": {},
   "source": [
    "Each of the properties from the official COM implementation of OpenDSS are implemented as a pair of functions. While in OpenDSSDirect.py one can use, e.g., `dss.Loads.kW()` to read the active load element `kW` and `dss.Loads.kW(some_value)` to set the `kW` value, the low-level interface exposes `dss.dss_lib.Loads_Get_kW()` and `dss.dss_lib.Loads_Set_kW()`.\n",
    "\n",
    "The low-level interface exposes [DSS C-API](https://dss-extensions.org/dss_capi/dss__capi_8h.html) as wrapped in DSS-Python. It's useful to prototype low-level operations in Python before porting to C."
   ]
  },
  {
   "cell_type": "code",
   "execution_count": 7,
   "metadata": {},
   "outputs": [
    {
     "data": {
      "text/plain": [
       "'670c'"
      ]
     },
     "execution_count": 7,
     "metadata": {},
     "output_type": "execute_result"
    }
   ],
   "source": [
    "dss.Loads.Name()"
   ]
  },
  {
   "cell_type": "code",
   "execution_count": 8,
   "metadata": {},
   "outputs": [
    {
     "data": {
      "text/plain": [
       "117.0"
      ]
     },
     "execution_count": 8,
     "metadata": {},
     "output_type": "execute_result"
    }
   ],
   "source": [
    "dss.dss_lib.Loads_Get_kW()"
   ]
  },
  {
   "cell_type": "code",
   "execution_count": 9,
   "metadata": {},
   "outputs": [],
   "source": [
    "dss.dss_lib.Loads_Set_kW(120)"
   ]
  },
  {
   "cell_type": "code",
   "execution_count": 10,
   "metadata": {},
   "outputs": [
    {
     "data": {
      "text/plain": [
       "120.0"
      ]
     },
     "execution_count": 10,
     "metadata": {},
     "output_type": "execute_result"
    }
   ],
   "source": [
    "dss.Loads.kW()"
   ]
  },
  {
   "cell_type": "markdown",
   "metadata": {},
   "source": [
    "### Module `Loads`"
   ]
  },
  {
   "cell_type": "markdown",
   "metadata": {},
   "source": [
    "The `dss` module has many submodules"
   ]
  },
  {
   "cell_type": "code",
   "execution_count": 11,
   "metadata": {},
   "outputs": [
    {
     "name": "stdout",
     "output_type": "stream",
     "text": [
      "dss.ActiveClass\n",
      "dss.Basic\n",
      "dss.Bus\n",
      "dss.CNData\n",
      "dss.CapControls\n",
      "dss.Capacitors\n",
      "dss.Circuit\n",
      "dss.CktElement\n",
      "dss.CmathLib\n",
      "dss.CtrlQueue\n",
      "dss.DSSCore\n",
      "dss.DSSEvents\n",
      "dss.DSSimComs\n",
      "dss.Element\n",
      "dss.Error\n",
      "dss.Executive\n",
      "dss.Fuses\n",
      "dss.Generators\n",
      "dss.Isource\n",
      "dss.LineCodes\n",
      "dss.LineGeometries\n",
      "dss.LineSpacings\n",
      "dss.Lines\n",
      "dss.LoadShape\n",
      "dss.Loads\n",
      "dss.Meters\n",
      "dss.Monitors\n",
      "dss.PDElements\n",
      "dss.PVsystems\n",
      "dss.Parallel\n",
      "dss.Parser\n",
      "dss.Progress\n",
      "dss.Properties\n",
      "dss.Reactors\n",
      "dss.Reclosers\n",
      "dss.ReduceCkt\n",
      "dss.RegControls\n",
      "dss.Relays\n",
      "dss.Sensors\n",
      "dss.Settings\n",
      "dss.Solution\n",
      "dss.Storages\n",
      "dss.SwtControls\n",
      "dss.TSData\n",
      "dss.Text\n",
      "dss.Topology\n",
      "dss.Transformers\n",
      "dss.Vsources\n",
      "dss.WireData\n",
      "dss.XYCurves\n",
      "dss.YMatrix\n",
      "dss.ZIP\n",
      "dss.dss\n",
      "dss.dss_lib\n",
      "dss.utils\n"
     ]
    }
   ],
   "source": [
    "import types\n",
    "\n",
    "import inspect\n",
    "\n",
    "for name, module in inspect.getmembers(dss):\n",
    "    if isinstance(module, types.ModuleType) and not name.startswith('_'):\n",
    "        print(f'dss.{name}')"
   ]
  },
  {
   "cell_type": "markdown",
   "metadata": {},
   "source": [
    "Each submodule has functions that can be called."
   ]
  },
  {
   "cell_type": "code",
   "execution_count": 12,
   "metadata": {},
   "outputs": [
    {
     "name": "stdout",
     "output_type": "stream",
     "text": [
      "dss.Loads.AllNames\n",
      "dss.Loads.AllocationFactor\n",
      "dss.Loads.CFactor\n",
      "dss.Loads.CVRCurve\n",
      "dss.Loads.CVRvars\n",
      "dss.Loads.CVRwatts\n",
      "dss.Loads.CheckForError\n",
      "dss.Loads.Class\n",
      "dss.Loads.Count\n",
      "dss.Loads.Daily\n",
      "dss.Loads.Duty\n",
      "dss.Loads.First\n",
      "dss.Loads.Growth\n",
      "dss.Loads.Idx\n",
      "dss.Loads.IsDelta\n",
      "dss.Loads.Model\n",
      "dss.Loads.Name\n",
      "dss.Loads.Next\n",
      "dss.Loads.NumCust\n",
      "dss.Loads.PF\n",
      "dss.Loads.PctMean\n",
      "dss.Loads.PctStdDev\n",
      "dss.Loads.Phases\n",
      "dss.Loads.RelWeighting\n",
      "dss.Loads.Rneut\n",
      "dss.Loads.Spectrum\n",
      "dss.Loads.Status\n",
      "dss.Loads.Vmaxpu\n",
      "dss.Loads.VminEmerg\n",
      "dss.Loads.VminNorm\n",
      "dss.Loads.Vminpu\n",
      "dss.Loads.XfkVA\n",
      "dss.Loads.Xneut\n",
      "dss.Loads.Yearly\n",
      "dss.Loads.ZipV\n",
      "dss.Loads.get_float64_array\n",
      "dss.Loads.get_string\n",
      "dss.Loads.get_string_array\n",
      "dss.Loads.kV\n",
      "dss.Loads.kVABase\n",
      "dss.Loads.kW\n",
      "dss.Loads.kWh\n",
      "dss.Loads.kWhDays\n",
      "dss.Loads.kvar\n",
      "dss.Loads.prepare_float64_array\n",
      "dss.Loads.puSeriesRL\n"
     ]
    }
   ],
   "source": [
    "for name, function in inspect.getmembers(dss.Loads):\n",
    "    if callable(function) and not name.startswith('_'):\n",
    "        print(f'dss.Loads.{name}')"
   ]
  },
  {
   "cell_type": "code",
   "execution_count": 13,
   "metadata": {},
   "outputs": [
    {
     "data": {
      "text/plain": [
       "['671',\n",
       " '634a',\n",
       " '634b',\n",
       " '634c',\n",
       " '645',\n",
       " '646',\n",
       " '692',\n",
       " '675a',\n",
       " '675b',\n",
       " '675c',\n",
       " '611',\n",
       " '652',\n",
       " '670a',\n",
       " '670b',\n",
       " '670c']"
      ]
     },
     "execution_count": 13,
     "metadata": {},
     "output_type": "execute_result"
    }
   ],
   "source": [
    "dss.Loads.AllNames()"
   ]
  },
  {
   "cell_type": "code",
   "execution_count": 14,
   "metadata": {},
   "outputs": [
    {
     "data": {
      "text/plain": [
       "'670c'"
      ]
     },
     "execution_count": 14,
     "metadata": {},
     "output_type": "execute_result"
    }
   ],
   "source": [
    "dss.Loads.Name()"
   ]
  },
  {
   "cell_type": "code",
   "execution_count": 15,
   "metadata": {},
   "outputs": [
    {
     "data": {
      "text/plain": [
       "120.0"
      ]
     },
     "execution_count": 15,
     "metadata": {},
     "output_type": "execute_result"
    }
   ],
   "source": [
    "dss.Loads.kW()"
   ]
  },
  {
   "cell_type": "markdown",
   "metadata": {},
   "source": [
    "To get all `kW`, one must iterate over all the loads"
   ]
  },
  {
   "cell_type": "code",
   "execution_count": 16,
   "metadata": {},
   "outputs": [
    {
     "name": "stdout",
     "output_type": "stream",
     "text": [
      "Name=671 \t kW=1155.0\n",
      "Name=634a \t kW=160.0\n",
      "Name=634b \t kW=120.0\n",
      "Name=634c \t kW=120.0\n",
      "Name=645 \t kW=170.0\n",
      "Name=646 \t kW=230.0\n",
      "Name=692 \t kW=170.0\n",
      "Name=675a \t kW=485.0\n",
      "Name=675b \t kW=68.0\n",
      "Name=675c \t kW=290.0\n",
      "Name=611 \t kW=170.0\n",
      "Name=652 \t kW=128.0\n",
      "Name=670a \t kW=17.0\n",
      "Name=670b \t kW=66.0\n",
      "Name=670c \t kW=120.0\n"
     ]
    }
   ],
   "source": [
    "dss.Loads.First()\n",
    "\n",
    "while True:\n",
    "    \n",
    "    print(\n",
    "        'Name={name} \\t kW={kW}'.format(\n",
    "            name=dss.Loads.Name(), \n",
    "            kW=dss.Loads.kW()\n",
    "        )\n",
    "    )\n",
    "    \n",
    "    if not dss.Loads.Next() > 0:\n",
    "        break"
   ]
  },
  {
   "cell_type": "markdown",
   "metadata": {},
   "source": [
    "The `utils` module provides an `Iterator` class as a helper function"
   ]
  },
  {
   "cell_type": "code",
   "execution_count": 17,
   "metadata": {
    "collapsed": true
   },
   "outputs": [],
   "source": [
    "from opendssdirect.utils import Iterator"
   ]
  },
  {
   "cell_type": "code",
   "execution_count": 18,
   "metadata": {
    "collapsed": true
   },
   "outputs": [],
   "source": [
    "load_kW = [i() for i in Iterator(dss.Loads, 'kW')]"
   ]
  },
  {
   "cell_type": "code",
   "execution_count": 19,
   "metadata": {},
   "outputs": [
    {
     "data": {
      "text/plain": [
       "[1155.0,\n",
       " 160.0,\n",
       " 120.0,\n",
       " 120.0,\n",
       " 170.0,\n",
       " 230.0,\n",
       " 170.0,\n",
       " 485.0,\n",
       " 68.0,\n",
       " 290.0,\n",
       " 170.0,\n",
       " 128.0,\n",
       " 17.0,\n",
       " 66.0,\n",
       " 120.0]"
      ]
     },
     "execution_count": 19,
     "metadata": {},
     "output_type": "execute_result"
    }
   ],
   "source": [
    "load_kW"
   ]
  },
  {
   "cell_type": "code",
   "execution_count": 20,
   "metadata": {},
   "outputs": [
    {
     "name": "stdout",
     "output_type": "stream",
     "text": [
      "Name=671 \t kW=1155.0\n",
      "Name=634a \t kW=160.0\n",
      "Name=634b \t kW=120.0\n",
      "Name=634c \t kW=120.0\n",
      "Name=645 \t kW=170.0\n",
      "Name=646 \t kW=230.0\n",
      "Name=692 \t kW=170.0\n",
      "Name=675a \t kW=485.0\n",
      "Name=675b \t kW=68.0\n",
      "Name=675c \t kW=290.0\n",
      "Name=611 \t kW=170.0\n",
      "Name=652 \t kW=128.0\n",
      "Name=670a \t kW=17.0\n",
      "Name=670b \t kW=66.0\n",
      "Name=670c \t kW=120.0\n"
     ]
    }
   ],
   "source": [
    "for i in Iterator(dss.Loads, 'Name'):\n",
    "    \n",
    "    print(\n",
    "        'Name={name} \\t kW={kW}'.format(\n",
    "            name=i(), \n",
    "            kW=dss.Loads.kW()\n",
    "        )\n",
    "    )"
   ]
  }
 ],
 "metadata": {
  "kernelspec": {
   "display_name": "base",
   "language": "python",
   "name": "python3"
  },
  "language_info": {
   "codemirror_mode": {
    "name": "ipython",
    "version": 3
   },
   "file_extension": ".py",
   "mimetype": "text/x-python",
   "name": "python",
   "nbconvert_exporter": "python",
   "pygments_lexer": "ipython3",
   "version": "3.8.12 | packaged by conda-forge | (default, Jan 30 2022, 23:42:07) \n[GCC 9.4.0]"
  },
  "vscode": {
   "interpreter": {
    "hash": "baa8017c28995192956bc3ba1b5ff3daaf48c837d0d371b8fadc1e72c74d0599"
   }
  }
 },
 "nbformat": 4,
 "nbformat_minor": 2
}
