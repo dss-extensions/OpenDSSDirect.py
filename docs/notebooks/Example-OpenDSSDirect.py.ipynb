{
 "cells": [
  {
   "cell_type": "markdown",
   "metadata": {},
   "source": [
    "# Usage"
   ]
  },
  {
   "attachments": {},
   "cell_type": "markdown",
   "metadata": {},
   "source": [
    "OpenDSSDirect.py is a package in the [DSS-Extensions](https://dss-extensions.org/) project. As such, it doesn't require EPRI's OpenDSS to be installed. OpenDSSDirect.py provides it's own customized engine through [DSS-Python](https://dss-extensions.org/dss_python/), which in turn enables us to run the DSS engine on Windows, Linux and macOS (including newer Apple ARM processors).\n",
    "\n",
    "After the installation, you can just import the module and start using it without further steps:"
   ]
  },
  {
   "cell_type": "code",
   "execution_count": 1,
   "metadata": {
    "collapsed": true
   },
   "outputs": [],
   "source": [
    "from opendssdirect import dss"
   ]
  },
  {
   "cell_type": "code",
   "execution_count": 2,
   "metadata": {},
   "outputs": [
    {
     "name": "stdout",
     "output_type": "stream",
     "text": [
      "OpenDSSDirect.py and engine versions: DSS C-API Library version DEV revision UNKNOWN based on OpenDSS SVN UNKNOWN [FPC 3.2.2] (64-bit build) MVMULT INCREMENTAL_Y CONTEXT_API PM 20240126002725; License Status: Open \n",
      "DSS-Python version: 0.0dev\n",
      "OpenDSSDirect.py version: 0.9.0-dev\n"
     ]
    }
   ],
   "source": [
    "print('OpenDSSDirect.py and engine versions:', dss.Version())"
   ]
  },
  {
   "cell_type": "markdown",
   "metadata": {},
   "source": [
    "### Import a file"
   ]
  },
  {
   "attachments": {},
   "cell_type": "markdown",
   "metadata": {},
   "source": [
    "Use the high level interface for automatic error handling, mapping errors to Python exceptions.\n",
    "\n",
    "This first example should give an error:"
   ]
  },
  {
   "cell_type": "code",
   "execution_count": 3,
   "metadata": {},
   "outputs": [
    {
     "ename": "DSSException",
     "evalue": "(#243) Redirect file not found: \"this_file_does_not_exist.dss\"",
     "output_type": "error",
     "traceback": [
      "\u001b[0;31m---------------------------------------------------------------------------\u001b[0m",
      "\u001b[0;31mDSSException\u001b[0m                              Traceback (most recent call last)",
      "Cell \u001b[0;32mIn[3], line 1\u001b[0m\n\u001b[0;32m----> 1\u001b[0m \u001b[43mdss\u001b[49m\u001b[38;5;241;43m.\u001b[39;49m\u001b[43mCommand\u001b[49m\u001b[43m(\u001b[49m\u001b[38;5;124;43m'\u001b[39;49m\u001b[38;5;124;43mRedirect this_file_does_not_exist.dss\u001b[39;49m\u001b[38;5;124;43m'\u001b[39;49m\u001b[43m)\u001b[49m\n",
      "File \u001b[0;32m~/projects/dss/oddpy/opendssdirect/Text.py:20\u001b[0m, in \u001b[0;36mIText.Command\u001b[0;34m(self, *args)\u001b[0m\n\u001b[1;32m     18\u001b[0m \u001b[38;5;28;01mif\u001b[39;00m \u001b[38;5;28mtype\u001b[39m(Value) \u001b[38;5;129;01mis\u001b[39;00m \u001b[38;5;129;01mnot\u001b[39;00m \u001b[38;5;28mbytes\u001b[39m:\n\u001b[1;32m     19\u001b[0m     Value \u001b[38;5;241m=\u001b[39m Value\u001b[38;5;241m.\u001b[39mencode(\u001b[38;5;28mself\u001b[39m\u001b[38;5;241m.\u001b[39m_api_util\u001b[38;5;241m.\u001b[39mcodec)\n\u001b[0;32m---> 20\u001b[0m \u001b[38;5;28;43mself\u001b[39;49m\u001b[38;5;241;43m.\u001b[39;49m\u001b[43mCheckForError\u001b[49m\u001b[43m(\u001b[49m\u001b[38;5;28;43mself\u001b[39;49m\u001b[38;5;241;43m.\u001b[39;49m\u001b[43m_lib\u001b[49m\u001b[38;5;241;43m.\u001b[39;49m\u001b[43mText_Set_Command\u001b[49m\u001b[43m(\u001b[49m\u001b[43mValue\u001b[49m\u001b[43m)\u001b[49m\u001b[43m)\u001b[49m\n",
      "File \u001b[0;32m~/projects/dss/dss_python/dss/_cffi_api_util.py:258\u001b[0m, in \u001b[0;36mBase._check_for_error\u001b[0;34m(self, result)\u001b[0m\n\u001b[1;32m    256\u001b[0m     error_num \u001b[38;5;241m=\u001b[39m \u001b[38;5;28mself\u001b[39m\u001b[38;5;241m.\u001b[39m_errorPtr[\u001b[38;5;241m0\u001b[39m]\n\u001b[1;32m    257\u001b[0m     \u001b[38;5;28mself\u001b[39m\u001b[38;5;241m.\u001b[39m_errorPtr[\u001b[38;5;241m0\u001b[39m] \u001b[38;5;241m=\u001b[39m \u001b[38;5;241m0\u001b[39m\n\u001b[0;32m--> 258\u001b[0m     \u001b[38;5;28;01mraise\u001b[39;00m DSSException(error_num, \u001b[38;5;28mself\u001b[39m\u001b[38;5;241m.\u001b[39m_get_string(\u001b[38;5;28mself\u001b[39m\u001b[38;5;241m.\u001b[39m_lib\u001b[38;5;241m.\u001b[39mError_Get_Description()))\n\u001b[1;32m    260\u001b[0m \u001b[38;5;28;01mreturn\u001b[39;00m result\n",
      "\u001b[0;31mDSSException\u001b[0m: (#243) Redirect file not found: \"this_file_does_not_exist.dss\""
     ]
    }
   ],
   "source": [
    "dss.Command('Redirect this_file_does_not_exist.dss')"
   ]
  },
  {
   "cell_type": "markdown",
   "metadata": {},
   "source": [
    "This second example uses a correct file path:"
   ]
  },
  {
   "cell_type": "code",
   "execution_count": 4,
   "metadata": {},
   "outputs": [],
   "source": [
    "dss.Command('Redirect \"./../../tests/data/13Bus/IEEE13Nodeckt.dss\"')"
   ]
  },
  {
   "attachments": {},
   "cell_type": "markdown",
   "metadata": {},
   "source": [
    "👉 **In previous versions of this document, we used to recommend `dss.run_command()`. Unfortunately the error-checking from `run_command` can be confusing and we cannot change it, for historical and backwards-compatibility reasons.**\n",
    "\n",
    "`dss.Command` itself is a shortcut to `dss.Text.Command`, the interface function for dispatching single DSS commands. Since v0.9, when importing the `dss` instance (`from opendssdirect import dss`), one can also use just `dss('Redirect \"../../tests/data/13Bus/IEEE13Nodeckt.dss\"')` instead of `dss.Command('Redirect \"../../tests/data/13Bus/IEEE13Nodeckt.dss\"')` for an even shorter version. As an added feature, calling `dss(script_string)` also allows passing multiple commands through multi-line strings."
   ]
  },
  {
   "attachments": {},
   "cell_type": "markdown",
   "metadata": {},
   "source": [
    "If you need text output from the Text interface, you can use `dss.Text.Result()`. In general, if there is a dedicated API for a certain class of component, prefere to use that for performance and safety reasons. Otherwise, for example, you can query the DSS engine:"
   ]
  },
  {
   "cell_type": "code",
   "execution_count": 5,
   "metadata": {},
   "outputs": [
    {
     "data": {
      "text/plain": [
       "'160'"
      ]
     },
     "execution_count": 5,
     "metadata": {},
     "output_type": "execute_result"
    }
   ],
   "source": [
    "dss('? Load.634a.kW')\n",
    "dss.Text.Result()"
   ]
  },
  {
   "attachments": {},
   "cell_type": "markdown",
   "metadata": {},
   "source": [
    "Sometimes it might be useful to use the low-level interface. Beware that error checking needs to done by the user in this case."
   ]
  },
  {
   "cell_type": "code",
   "execution_count": 6,
   "metadata": {},
   "outputs": [],
   "source": [
    "dss.dss_lib.Text_Set_Command('Redirect ./../../tests/data/13Bus/IEEE13Nodeckt.dss'.encode())"
   ]
  },
  {
   "attachments": {},
   "cell_type": "markdown",
   "metadata": {},
   "source": [
    "Each of the properties from the official COM implementation of OpenDSS are implemented as a pair of functions. While in OpenDSSDirect.py one can use, e.g., `dss.Loads.kW()` to read the active load element `kW` and `dss.Loads.kW(some_value)` to set the `kW` value, the low-level interface exposes `dss.dss_lib.Loads_Get_kW()` and `dss.dss_lib.Loads_Set_kW()`.\n",
    "\n",
    "The low-level interface exposes [DSS C-API](https://dss-extensions.org/dss_capi/dss__capi_8h.html) as wrapped in DSS-Python. It's useful to prototype low-level operations in Python before porting to C."
   ]
  },
  {
   "cell_type": "code",
   "execution_count": 7,
   "metadata": {},
   "outputs": [
    {
     "data": {
      "text/plain": [
       "'670c'"
      ]
     },
     "execution_count": 7,
     "metadata": {},
     "output_type": "execute_result"
    }
   ],
   "source": [
    "dss.Loads.Name()"
   ]
  },
  {
   "cell_type": "code",
   "execution_count": 8,
   "metadata": {},
   "outputs": [
    {
     "data": {
      "text/plain": [
       "117.0"
      ]
     },
     "execution_count": 8,
     "metadata": {},
     "output_type": "execute_result"
    }
   ],
   "source": [
    "dss.dss_lib.Loads_Get_kW()"
   ]
  },
  {
   "cell_type": "code",
   "execution_count": 9,
   "metadata": {},
   "outputs": [],
   "source": [
    "dss.dss_lib.Loads_Set_kW(120)"
   ]
  },
  {
   "cell_type": "code",
   "execution_count": 10,
   "metadata": {},
   "outputs": [
    {
     "data": {
      "text/plain": [
       "120.0"
      ]
     },
     "execution_count": 10,
     "metadata": {},
     "output_type": "execute_result"
    }
   ],
   "source": [
    "dss.Loads.kW()"
   ]
  },
  {
   "cell_type": "markdown",
   "metadata": {},
   "source": [
    "### Module `Loads`"
   ]
  },
  {
   "cell_type": "markdown",
   "metadata": {},
   "source": [
    "The `dss` module has many submodules"
   ]
  },
  {
   "cell_type": "code",
   "execution_count": 11,
   "metadata": {},
   "outputs": [
    {
     "name": "stdout",
     "output_type": "stream",
     "text": [
      "dss.utils\n"
     ]
    }
   ],
   "source": [
    "import types\n",
    "\n",
    "import inspect\n",
    "\n",
    "for name, module in inspect.getmembers(dss):\n",
    "    if isinstance(module, types.ModuleType) and not name.startswith('_'):\n",
    "        print(f'dss.{name}')"
   ]
  },
  {
   "cell_type": "markdown",
   "metadata": {},
   "source": [
    "Each submodule has functions that can be called."
   ]
  },
  {
   "cell_type": "code",
   "execution_count": 12,
   "metadata": {},
   "outputs": [
    {
     "name": "stdout",
     "output_type": "stream",
     "text": [
      "dss.Loads.AllNames\n",
      "dss.Loads.AllocationFactor\n",
      "dss.Loads.CFactor\n",
      "dss.Loads.CVRCurve\n",
      "dss.Loads.CVRvars\n",
      "dss.Loads.CVRwatts\n",
      "dss.Loads.CheckForError\n",
      "dss.Loads.Class\n",
      "dss.Loads.Count\n",
      "dss.Loads.Daily\n",
      "dss.Loads.Duty\n",
      "dss.Loads.First\n",
      "dss.Loads.Growth\n",
      "dss.Loads.Idx\n",
      "dss.Loads.IsDelta\n",
      "dss.Loads.Model\n",
      "dss.Loads.Name\n",
      "dss.Loads.Next\n",
      "dss.Loads.NumCust\n",
      "dss.Loads.PF\n",
      "dss.Loads.PctMean\n",
      "dss.Loads.PctStdDev\n",
      "dss.Loads.Phases\n",
      "dss.Loads.RelWeighting\n",
      "dss.Loads.Rneut\n",
      "dss.Loads.Sensor\n",
      "dss.Loads.Spectrum\n",
      "dss.Loads.Status\n",
      "dss.Loads.Vmaxpu\n",
      "dss.Loads.VminEmerg\n",
      "dss.Loads.VminNorm\n",
      "dss.Loads.Vminpu\n",
      "dss.Loads.XfkVA\n",
      "dss.Loads.Xneut\n",
      "dss.Loads.Yearly\n",
      "dss.Loads.ZipV\n",
      "dss.Loads.kV\n",
      "dss.Loads.kVABase\n",
      "dss.Loads.kW\n",
      "dss.Loads.kWh\n",
      "dss.Loads.kWhDays\n",
      "dss.Loads.kvar\n",
      "dss.Loads.puSeriesRL\n"
     ]
    }
   ],
   "source": [
    "for name, function in inspect.getmembers(dss.Loads):\n",
    "    if callable(function) and not name.startswith('_'):\n",
    "        print(f'dss.Loads.{name}')"
   ]
  },
  {
   "cell_type": "code",
   "execution_count": 13,
   "metadata": {},
   "outputs": [
    {
     "data": {
      "text/plain": [
       "['671',\n",
       " '634a',\n",
       " '634b',\n",
       " '634c',\n",
       " '645',\n",
       " '646',\n",
       " '692',\n",
       " '675a',\n",
       " '675b',\n",
       " '675c',\n",
       " '611',\n",
       " '652',\n",
       " '670a',\n",
       " '670b',\n",
       " '670c']"
      ]
     },
     "execution_count": 13,
     "metadata": {},
     "output_type": "execute_result"
    }
   ],
   "source": [
    "dss.Loads.AllNames()"
   ]
  },
  {
   "cell_type": "code",
   "execution_count": 14,
   "metadata": {},
   "outputs": [
    {
     "data": {
      "text/plain": [
       "'670c'"
      ]
     },
     "execution_count": 14,
     "metadata": {},
     "output_type": "execute_result"
    }
   ],
   "source": [
    "dss.Loads.Name()"
   ]
  },
  {
   "cell_type": "code",
   "execution_count": 15,
   "metadata": {},
   "outputs": [
    {
     "data": {
      "text/plain": [
       "120.0"
      ]
     },
     "execution_count": 15,
     "metadata": {},
     "output_type": "execute_result"
    }
   ],
   "source": [
    "dss.Loads.kW()"
   ]
  },
  {
   "cell_type": "markdown",
   "metadata": {},
   "source": [
    "To get all `kW`, one must iterate over all the loads. v0.9+ support Python iterators, so a simple `for` will do. Remember that OpenDSS API restrictions still apply -- a simple object of this type must be active. Check [AltDSS-Python](https://github.com/dss-extensions/AltDSS-Python) for an alternative."
   ]
  },
  {
   "cell_type": "code",
   "execution_count": 18,
   "metadata": {},
   "outputs": [
    {
     "name": "stdout",
     "output_type": "stream",
     "text": [
      "Name=671 \t kW=1155.0\n",
      "Name=634a \t kW=160.0\n",
      "Name=634b \t kW=120.0\n",
      "Name=634c \t kW=120.0\n",
      "Name=645 \t kW=170.0\n",
      "Name=646 \t kW=230.0\n",
      "Name=692 \t kW=170.0\n",
      "Name=675a \t kW=485.0\n",
      "Name=675b \t kW=68.0\n",
      "Name=675c \t kW=290.0\n",
      "Name=611 \t kW=170.0\n",
      "Name=652 \t kW=128.0\n",
      "Name=670a \t kW=17.0\n",
      "Name=670b \t kW=66.0\n",
      "Name=670c \t kW=120.0\n"
     ]
    }
   ],
   "source": [
    "for load in dss.Loads:\n",
    "    print(\n",
    "        'Name={name} \\t kW={kW}'.format(\n",
    "            name=load.Name(), \n",
    "            kW=load.kW()\n",
    "        )\n",
    "    )"
   ]
  },
  {
   "cell_type": "markdown",
   "metadata": {},
   "source": [
    "List comprehensions also work great:"
   ]
  },
  {
   "cell_type": "code",
   "execution_count": 23,
   "metadata": {},
   "outputs": [
    {
     "data": {
      "text/plain": [
       "[1155.0,\n",
       " 160.0,\n",
       " 120.0,\n",
       " 120.0,\n",
       " 170.0,\n",
       " 230.0,\n",
       " 170.0,\n",
       " 485.0,\n",
       " 68.0,\n",
       " 290.0,\n",
       " 170.0,\n",
       " 128.0,\n",
       " 17.0,\n",
       " 66.0,\n",
       " 120.0]"
      ]
     },
     "execution_count": 23,
     "metadata": {},
     "output_type": "execute_result"
    }
   ],
   "source": [
    "[l.kW() for l in dss.Loads]"
   ]
  },
  {
   "cell_type": "markdown",
   "metadata": {},
   "source": [
    "The (now deprecated) `Iterator` class from the `utils` module provides a similar option in pre-v0.9 version. As seen below, it has greater overhead, so prefer the usual Python iteration for new code."
   ]
  },
  {
   "cell_type": "code",
   "execution_count": 19,
   "metadata": {
    "collapsed": true
   },
   "outputs": [],
   "source": [
    "from opendssdirect.utils import Iterator"
   ]
  },
  {
   "cell_type": "code",
   "execution_count": 24,
   "metadata": {
    "collapsed": true
   },
   "outputs": [
    {
     "name": "stderr",
     "output_type": "stream",
     "text": [
      "<magic-timeit>:1: DeprecationWarning: OpenDSSDirect.py's Iterator is deprecated; you can use native Python iterators directly now.\n"
     ]
    },
    {
     "name": "stdout",
     "output_type": "stream",
     "text": [
      "5.59 µs ± 33.7 ns per loop (mean ± std. dev. of 7 runs, 100,000 loops each)\n"
     ]
    }
   ],
   "source": [
    "%timeit load_kW = [i() for i in Iterator(dss.Loads, 'kW')]\n"
   ]
  },
  {
   "cell_type": "code",
   "execution_count": 22,
   "metadata": {},
   "outputs": [
    {
     "name": "stdout",
     "output_type": "stream",
     "text": [
      "3.81 µs ± 24.1 ns per loop (mean ± std. dev. of 7 runs, 100,000 loops each)\n"
     ]
    }
   ],
   "source": [
    "%timeit load_kW = [l.kW() for l in dss.Loads]"
   ]
  }
 ],
 "metadata": {
  "kernelspec": {
   "display_name": "base",
   "language": "python",
   "name": "python3"
  },
  "language_info": {
   "codemirror_mode": {
    "name": "ipython",
    "version": 3
   },
   "file_extension": ".py",
   "mimetype": "text/x-python",
   "name": "python",
   "nbconvert_exporter": "python",
   "pygments_lexer": "ipython3",
   "version": "3.11.4"
  },
  "vscode": {
   "interpreter": {
    "hash": "baa8017c28995192956bc3ba1b5ff3daaf48c837d0d371b8fadc1e72c74d0599"
   }
  }
 },
 "nbformat": 4,
 "nbformat_minor": 2
}
