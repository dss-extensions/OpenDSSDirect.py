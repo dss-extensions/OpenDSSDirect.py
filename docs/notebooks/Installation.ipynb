{
 "cells": [
  {
   "cell_type": "markdown",
   "metadata": {},
   "source": [
    "# Installation"
   ]
  },
  {
   "cell_type": "markdown",
   "metadata": {},
   "source": [
    "\n",
    "Users can install the current version of `OpenDSSDirect.py` with `pip`."
   ]
  },
  {
   "cell_type": "markdown",
   "metadata": {},
   "source": [
    "**Recommended**: Use [Miniconda](https://conda.io/miniconda.html) or [Anaconda](https://www.continuum.io/downloads) to install Python"
   ]
  },
  {
   "cell_type": "markdown",
   "metadata": {},
   "source": [
    "## With `pip`"
   ]
  },
  {
   "cell_type": "markdown",
   "metadata": {},
   "source": [
    "Open a shell or command prompt in your Python environment to use pip. \n",
    "\n",
    "To follow the notebooks, examples and explore the ecosystem, we recommend using the `extra` specifier, which will also include AltDSS-Python, Pandas, NetworkX, SciPy, matplotlib, besides DSS-Python:\n",
    "\n",
    "```bash\n",
    "pip install 'OpenDSSDirect.py[extras]'\n",
    "```"
   ]
  },
  {
   "cell_type": "markdown",
   "metadata": {},
   "source": [
    "On Windows, if you get an error, you may need to use double quotes instead:"
   ]
  },
  {
   "attachments": {},
   "cell_type": "markdown",
   "metadata": {},
   "source": [
    "```shell\n",
    "pip install \"OpenDSSDirect.py[extras]\"\n",
    "```"
   ]
  },
  {
   "cell_type": "markdown",
   "metadata": {},
   "source": [
    "**Note**: Python packages like `pandas` are optional dependencies of `OpenDSSDirect.py`. If, for example, you are unable to install `pandas` using `pip`, try `conda install pandas`. If you are unable to install `pandas` please open an issue on GitHub. Alternatively, you can try the following, to not install the `extras` dependency."
   ]
  },
  {
   "cell_type": "markdown",
   "metadata": {},
   "source": [
    "```bash\n",
    "pip install OpenDSSDirect.py\n",
    "```"
   ]
  },
  {
   "cell_type": "markdown",
   "metadata": {},
   "source": [
    "That is the minimal installation depends only on DSS-Python, and might be useful for more restricted environments."
   ]
  },
  {
   "cell_type": "markdown",
   "metadata": {},
   "source": [
    "To upgrade an existing installation:"
   ]
  },
  {
   "cell_type": "markdown",
   "metadata": {},
   "source": [
    "```bash\n",
    "pip install 'OpenDSSDirect.py[extras]' --upgrade\n",
    "```"
   ]
  },
  {
   "cell_type": "markdown",
   "metadata": {},
   "source": [
    "## Development"
   ]
  },
  {
   "cell_type": "markdown",
   "metadata": {},
   "source": [
    "If you wish to develop `OpenDSSDirect.py`, first clone the repository from GitHub."
   ]
  },
  {
   "cell_type": "markdown",
   "metadata": {},
   "source": [
    "```bash\n",
    "git clone https://github.com/dss-extensions/OpenDSSDirect.py.git\n",
    "```"
   ]
  },
  {
   "cell_type": "markdown",
   "metadata": {},
   "source": [
    "(Optional: Set up a virtual environment or a conda environment.)\n",
    "\n",
    "Next install an editable version of `OpenDSSDirect.py`:"
   ]
  },
  {
   "cell_type": "markdown",
   "metadata": {},
   "source": [
    "```bash\n",
    "pip install -e '.[extras,dev]' --upgrade\n",
    "```"
   ]
  },
  {
   "attachments": {},
   "cell_type": "markdown",
   "metadata": {},
   "source": [
    "Depending on you system/user shell, you may have to escape the brackets\n",
    "\n",
    "```bash\n",
    "pip install -e '.\\[extras,dev\\]' --upgrade\n",
    "```"
   ]
  },
  {
   "cell_type": "markdown",
   "metadata": {},
   "source": [
    "## Support"
   ]
  },
  {
   "attachments": {},
   "cell_type": "markdown",
   "metadata": {},
   "source": [
    "`OpenDSSDirect.py` is currently tested and supported on Windows (x86, x64), Mac (x64, M1 and later) and Linux (x86, x64, ARM) machines."
   ]
  }
 ],
 "metadata": {
  "kernelspec": {
   "display_name": "Python 3",
   "language": "python",
   "name": "python3"
  },
  "language_info": {
   "codemirror_mode": {
    "name": "ipython",
    "version": 3
   },
   "file_extension": ".py",
   "mimetype": "text/x-python",
   "name": "python",
   "nbconvert_exporter": "python",
   "pygments_lexer": "ipython3",
   "version": "3.6.1"
  }
 },
 "nbformat": 4,
 "nbformat_minor": 2
}
